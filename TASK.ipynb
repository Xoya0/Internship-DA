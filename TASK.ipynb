{
 "cells": [
  {
   "cell_type": "markdown",
   "metadata": {},
   "source": [
    "Importing the data files\n"
   ]
  },
  {
   "cell_type": "code",
   "execution_count": null,
   "metadata": {},
   "outputs": [],
   "source": [
    "import pandas as pd\n",
    "\n",
    "trans_type = pd.read_csv('trans_type.txt', sep='\\t')\n",
    "acct_demo = pd.read_csv('acct_demo.txt', sep='\\t')\n",
    "cust_trans = pd.read_csv('cust_trans.txt', sep='\\t')\n",
    "cust_amount = pd.read_csv('cust_amount.txt', sep='\\t')\n",
    "\n",
    "# To verify the import\n",
    "#print(trans_type_df.head())\n",
    "#print(acct_demo_df.head())\n",
    "#print(cust_trans_df.head())\n",
    "#print(cust_amount_df.head())"
   ]
  },
  {
   "cell_type": "markdown",
   "metadata": {},
   "source": [
    "Group By\n"
   ]
  },
  {
   "cell_type": "code",
   "execution_count": null,
   "metadata": {},
   "outputs": [],
   "source": [
    "#Create table cust_table_1 with column month(Number YYYYMM) using cust_trans table.\n",
    "cust_trans['trans_date'] = pd.to_datetime(cust_trans['trans_date'], format='%d-%m-%Y')\n",
    "cust_trans['month'] = cust_trans['trans_date'].dt.strftime('%Y%m')\n",
    "\n",
    "# Create the `cust_trans_1` table with columns `month` and the original table\n",
    "cust_trans_1 = cust_trans[['month', 'trans_date']]\n",
    "\n",
    "print(\"Customer Transactions with Month:\")\n",
    "print(cust_trans_1.head())\n"
   ]
  }
 ],
 "metadata": {
  "kernelspec": {
   "display_name": "Python 3",
   "language": "python",
   "name": "python3"
  },
  "language_info": {
   "codemirror_mode": {
    "name": "ipython",
    "version": 3
   },
   "file_extension": ".py",
   "mimetype": "text/x-python",
   "name": "python",
   "nbconvert_exporter": "python",
   "pygments_lexer": "ipython3",
   "version": "3.11.9"
  }
 },
 "nbformat": 4,
 "nbformat_minor": 2
}
